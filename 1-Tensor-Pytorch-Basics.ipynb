{
 "cells": [
  {
   "cell_type": "code",
   "execution_count": 124,
   "metadata": {},
   "outputs": [],
   "source": [
    "import torch\n",
    "import numpy as np"
   ]
  },
  {
   "cell_type": "code",
   "execution_count": 125,
   "metadata": {},
   "outputs": [],
   "source": [
    "a = torch.tensor([1,2,3])\n",
    "b= np.array([1,2,3])"
   ]
  },
  {
   "cell_type": "code",
   "execution_count": 126,
   "metadata": {},
   "outputs": [
    {
     "name": "stdout",
     "output_type": "stream",
     "text": [
      "tensor([1, 2, 3])\n",
      "[1 2 3]\n"
     ]
    }
   ],
   "source": [
    "print(a)\n",
    "print(b)"
   ]
  },
  {
   "cell_type": "code",
   "execution_count": 127,
   "metadata": {},
   "outputs": [],
   "source": [
    "points = torch.tensor([[2,3], [3,0.5]])"
   ]
  },
  {
   "cell_type": "code",
   "execution_count": 128,
   "metadata": {},
   "outputs": [
    {
     "data": {
      "text/plain": [
       "tensor([[2.0000, 3.0000],\n",
       "        [3.0000, 0.5000]])"
      ]
     },
     "execution_count": 128,
     "metadata": {},
     "output_type": "execute_result"
    }
   ],
   "source": [
    "points"
   ]
  },
  {
   "cell_type": "code",
   "execution_count": 129,
   "metadata": {},
   "outputs": [
    {
     "data": {
      "text/plain": [
       "torch.Size([2, 2])"
      ]
     },
     "execution_count": 129,
     "metadata": {},
     "output_type": "execute_result"
    }
   ],
   "source": [
    "points.shape"
   ]
  },
  {
   "cell_type": "code",
   "execution_count": 130,
   "metadata": {},
   "outputs": [],
   "source": [
    "t1 = torch.ones(size=(5,3,3))\n",
    "t2 = torch.zeros(size=(3,2))\n",
    "t3 = torch.arange(10)"
   ]
  },
  {
   "cell_type": "code",
   "execution_count": 131,
   "metadata": {},
   "outputs": [
    {
     "name": "stdout",
     "output_type": "stream",
     "text": [
      "tensor([[[1., 1., 1.],\n",
      "         [1., 1., 1.],\n",
      "         [1., 1., 1.]],\n",
      "\n",
      "        [[1., 1., 1.],\n",
      "         [1., 1., 1.],\n",
      "         [1., 1., 1.]],\n",
      "\n",
      "        [[1., 1., 1.],\n",
      "         [1., 1., 1.],\n",
      "         [1., 1., 1.]],\n",
      "\n",
      "        [[1., 1., 1.],\n",
      "         [1., 1., 1.],\n",
      "         [1., 1., 1.]],\n",
      "\n",
      "        [[1., 1., 1.],\n",
      "         [1., 1., 1.],\n",
      "         [1., 1., 1.]]])\n",
      "tensor([[0., 0.],\n",
      "        [0., 0.],\n",
      "        [0., 0.]])\n",
      "tensor([0, 1, 2, 3, 4, 5, 6, 7, 8, 9])\n"
     ]
    }
   ],
   "source": [
    "print(t1)\n",
    "print(t2)\n",
    "print(t3)"
   ]
  },
  {
   "cell_type": "code",
   "execution_count": 132,
   "metadata": {},
   "outputs": [
    {
     "data": {
      "text/plain": [
       "tensor([1., 1., 1., 1., 1.])"
      ]
     },
     "execution_count": 132,
     "metadata": {},
     "output_type": "execute_result"
    }
   ],
   "source": [
    "t1[:, 2, 2]"
   ]
  },
  {
   "cell_type": "code",
   "execution_count": 133,
   "metadata": {},
   "outputs": [],
   "source": [
    "t4 = torch.rand(size=(3,3,4))"
   ]
  },
  {
   "cell_type": "code",
   "execution_count": 134,
   "metadata": {},
   "outputs": [
    {
     "name": "stdout",
     "output_type": "stream",
     "text": [
      "tensor([[[0.9867, 0.7142, 0.0796, 0.2992],\n",
      "         [0.6871, 0.4004, 0.3032, 0.7394],\n",
      "         [0.1408, 0.8917, 0.8706, 0.0961]],\n",
      "\n",
      "        [[0.8026, 0.3360, 0.6577, 0.3676],\n",
      "         [0.0609, 0.1599, 0.5088, 0.2573],\n",
      "         [0.8441, 0.8892, 0.7977, 0.3876]],\n",
      "\n",
      "        [[0.3202, 0.8156, 0.3569, 0.6656],\n",
      "         [0.5995, 0.2875, 0.1511, 0.1257],\n",
      "         [0.8737, 0.9205, 0.8199, 0.9882]]])\n"
     ]
    }
   ],
   "source": [
    "print(t4)"
   ]
  },
  {
   "cell_type": "code",
   "execution_count": 135,
   "metadata": {},
   "outputs": [
    {
     "data": {
      "text/plain": [
       "tensor([0.0961, 0.3876, 0.9882])"
      ]
     },
     "execution_count": 135,
     "metadata": {},
     "output_type": "execute_result"
    }
   ],
   "source": [
    "t4[:, 2, 3]"
   ]
  },
  {
   "cell_type": "markdown",
   "metadata": {},
   "source": [
    "# Creating Tensors from existing data"
   ]
  },
  {
   "cell_type": "code",
   "execution_count": 136,
   "metadata": {},
   "outputs": [],
   "source": [
    "import numpy as np"
   ]
  },
  {
   "cell_type": "code",
   "execution_count": 137,
   "metadata": {},
   "outputs": [],
   "source": [
    "t1 = torch.tensor([1,2,3])\n",
    "t2 = torch.tensor(np.array([1,2,3,4,5]))\n",
    "t3 = torch.tensor(np.random.randn(3))\n",
    "t4 = t3.clone().detach() # from exisiting torch tensor\n",
    "t4[2] = 4"
   ]
  },
  {
   "cell_type": "code",
   "execution_count": 138,
   "metadata": {},
   "outputs": [
    {
     "name": "stdout",
     "output_type": "stream",
     "text": [
      "tensor([1, 2, 3])\n",
      "tensor([1, 2, 3, 4, 5], dtype=torch.int32)\n",
      "tensor([-0.4346,  1.0574, -1.7242], dtype=torch.float64)\n",
      "tensor([-0.4346,  1.0574,  4.0000], dtype=torch.float64)\n"
     ]
    }
   ],
   "source": [
    "print(t1)\n",
    "print(t2)\n",
    "print(t3)\n",
    "print(t4)"
   ]
  },
  {
   "cell_type": "markdown",
   "metadata": {},
   "source": [
    "## convert tensor to numpy"
   ]
  },
  {
   "cell_type": "code",
   "execution_count": 139,
   "metadata": {},
   "outputs": [],
   "source": [
    "t1 = torch.tensor([1,2,3,45])\n",
    "t2 = t1.detach().numpy()"
   ]
  },
  {
   "cell_type": "code",
   "execution_count": 140,
   "metadata": {},
   "outputs": [
    {
     "name": "stdout",
     "output_type": "stream",
     "text": [
      "<class 'numpy.ndarray'>\n"
     ]
    }
   ],
   "source": [
    "print(type(t2))"
   ]
  },
  {
   "cell_type": "markdown",
   "metadata": {},
   "source": [
    "## Accessing data within tensor"
   ]
  },
  {
   "cell_type": "code",
   "execution_count": 141,
   "metadata": {},
   "outputs": [
    {
     "name": "stdout",
     "output_type": "stream",
     "text": [
      "Org Tensor\n",
      "tensor([[[0.9386, 0.6012, 0.5303, 0.7843],\n",
      "         [0.8394, 0.4244, 0.4194, 0.1063]],\n",
      "\n",
      "        [[0.3133, 0.3022, 0.3979, 0.7755],\n",
      "         [0.2900, 0.1487, 0.4358, 0.0227]],\n",
      "\n",
      "        [[0.0964, 0.1017, 0.2687, 0.8158],\n",
      "         [0.1051, 0.6783, 0.4959, 0.2609]]])\n",
      "\n",
      "\n",
      "t[0][0][0] =  tensor(0.9386)\n",
      "t[2,1,3] =  tensor(0.2609)\n",
      "t[-1,-1][-1] = tensor(0.2609)\n",
      "\n",
      "\n",
      "t[0] --  tensor([[0.9386, 0.6012, 0.5303, 0.7843],\n",
      "        [0.8394, 0.4244, 0.4194, 0.1063]])\n",
      "t[:1] --  tensor([[[0.9386, 0.6012, 0.5303, 0.7843],\n",
      "         [0.8394, 0.4244, 0.4194, 0.1063]]])\n",
      "t[:,:,2] --  tensor([[0.5303, 0.4194],\n",
      "        [0.3979, 0.4358],\n",
      "        [0.2687, 0.4959]])\n"
     ]
    }
   ],
   "source": [
    "t = torch.rand(size=(3,2,4))\n",
    "print('Org Tensor')\n",
    "print(t)\n",
    "print('\\n')\n",
    "\n",
    "\n",
    "# valid ways of accessing individual elements\n",
    "print('t[0][0][0] = ', t[0][0][0])\n",
    "print('t[2,1,3] = ', t[2,1,3])\n",
    "print('t[-1,-1][-1] =', t[-1,-1][-1])\n",
    "print('\\n')\n",
    "\n",
    "\n",
    "# Tensor Slicing\n",
    "print('t[0] -- ', t[0])\n",
    "print('t[:1] -- ', t[:1])\n",
    "print('t[:,:,2] -- ', t[:,:,2])"
   ]
  },
  {
   "cell_type": "markdown",
   "metadata": {},
   "source": [
    "## Flatten Tensor"
   ]
  },
  {
   "cell_type": "code",
   "execution_count": 142,
   "metadata": {},
   "outputs": [
    {
     "name": "stdout",
     "output_type": "stream",
     "text": [
      "tensor([0.9386, 0.6012, 0.5303, 0.7843, 0.8394, 0.4244, 0.4194, 0.1063, 0.3133,\n",
      "        0.3022, 0.3979, 0.7755, 0.2900, 0.1487, 0.4358, 0.0227, 0.0964, 0.1017,\n",
      "        0.2687, 0.8158, 0.1051, 0.6783, 0.4959, 0.2609])\n"
     ]
    }
   ],
   "source": [
    "print(t.flatten())"
   ]
  },
  {
   "cell_type": "markdown",
   "metadata": {},
   "source": [
    "## Squeeze and Unsqueeze "
   ]
  },
  {
   "cell_type": "markdown",
   "metadata": {},
   "source": [
    "These commands are used to add or remove a dimension from a tensor."
   ]
  },
  {
   "cell_type": "code",
   "execution_count": 143,
   "metadata": {},
   "outputs": [],
   "source": [
    "# unsqueeze adds a dimension to the tensor...\n",
    "ts = t.unsqueeze(0)\n",
    "ts2 = t.unsqueeze(1)"
   ]
  },
  {
   "cell_type": "code",
   "execution_count": 144,
   "metadata": {},
   "outputs": [
    {
     "name": "stdout",
     "output_type": "stream",
     "text": [
      "torch.Size([1, 3, 2, 4])\n",
      "torch.Size([3, 1, 2, 4])\n",
      "ts--- tensor([[[[0.9386, 0.6012, 0.5303, 0.7843],\n",
      "          [0.8394, 0.4244, 0.4194, 0.1063]],\n",
      "\n",
      "         [[0.3133, 0.3022, 0.3979, 0.7755],\n",
      "          [0.2900, 0.1487, 0.4358, 0.0227]],\n",
      "\n",
      "         [[0.0964, 0.1017, 0.2687, 0.8158],\n",
      "          [0.1051, 0.6783, 0.4959, 0.2609]]]])\n",
      "ts2 --  tensor([[[[0.9386, 0.6012, 0.5303, 0.7843],\n",
      "          [0.8394, 0.4244, 0.4194, 0.1063]]],\n",
      "\n",
      "\n",
      "        [[[0.3133, 0.3022, 0.3979, 0.7755],\n",
      "          [0.2900, 0.1487, 0.4358, 0.0227]]],\n",
      "\n",
      "\n",
      "        [[[0.0964, 0.1017, 0.2687, 0.8158],\n",
      "          [0.1051, 0.6783, 0.4959, 0.2609]]]])\n"
     ]
    }
   ],
   "source": [
    "print(ts.shape)\n",
    "print(ts2.shape)\n",
    "print('ts---', ts)\n",
    "print('ts2 -- ', ts2)"
   ]
  },
  {
   "cell_type": "code",
   "execution_count": 145,
   "metadata": {},
   "outputs": [
    {
     "name": "stdout",
     "output_type": "stream",
     "text": [
      "torch.Size([3, 2, 4])\n",
      "torch.Size([3, 2, 4])\n",
      "ts_--- tensor([[[0.9386, 0.6012, 0.5303, 0.7843],\n",
      "         [0.8394, 0.4244, 0.4194, 0.1063]],\n",
      "\n",
      "        [[0.3133, 0.3022, 0.3979, 0.7755],\n",
      "         [0.2900, 0.1487, 0.4358, 0.0227]],\n",
      "\n",
      "        [[0.0964, 0.1017, 0.2687, 0.8158],\n",
      "         [0.1051, 0.6783, 0.4959, 0.2609]]])\n",
      "ts2_ --  tensor([[[0.9386, 0.6012, 0.5303, 0.7843],\n",
      "         [0.8394, 0.4244, 0.4194, 0.1063]],\n",
      "\n",
      "        [[0.3133, 0.3022, 0.3979, 0.7755],\n",
      "         [0.2900, 0.1487, 0.4358, 0.0227]],\n",
      "\n",
      "        [[0.0964, 0.1017, 0.2687, 0.8158],\n",
      "         [0.1051, 0.6783, 0.4959, 0.2609]]])\n"
     ]
    }
   ],
   "source": [
    "#Squeeze operation does the oposite, it removes the dimension that contains just 1 element\n",
    "ts_ = ts.squeeze()\n",
    "ts2_ = ts2.squeeze()\n",
    "print(ts_.shape)\n",
    "print(ts2_.shape)\n",
    "print('ts_---', ts_)\n",
    "print('ts2_ -- ', ts2_)"
   ]
  },
  {
   "cell_type": "markdown",
   "metadata": {},
   "source": [
    "## Reshape Tensor"
   ]
  },
  {
   "cell_type": "code",
   "execution_count": 146,
   "metadata": {},
   "outputs": [
    {
     "name": "stdout",
     "output_type": "stream",
     "text": [
      "torch.Size([3, 2, 4])\n",
      "tensor([[0.9386, 0.6012, 0.5303, 0.7843],\n",
      "        [0.8394, 0.4244, 0.4194, 0.1063],\n",
      "        [0.3133, 0.3022, 0.3979, 0.7755],\n",
      "        [0.2900, 0.1487, 0.4358, 0.0227],\n",
      "        [0.0964, 0.1017, 0.2687, 0.8158],\n",
      "        [0.1051, 0.6783, 0.4959, 0.2609]])\n",
      "tensor([[[[0.9386, 0.6012, 0.5303, 0.7843],\n",
      "          [0.8394, 0.4244, 0.4194, 0.1063]]],\n",
      "\n",
      "\n",
      "        [[[0.3133, 0.3022, 0.3979, 0.7755],\n",
      "          [0.2900, 0.1487, 0.4358, 0.0227]]],\n",
      "\n",
      "\n",
      "        [[[0.0964, 0.1017, 0.2687, 0.8158],\n",
      "          [0.1051, 0.6783, 0.4959, 0.2609]]]])\n"
     ]
    }
   ],
   "source": [
    "# reshapes the tensor to whatever dimension you desire...\n",
    "# the only (obvious) constraint is the resulting tensor should have equal number of elements as the original\n",
    "print(t.shape)\n",
    "print(t.reshape((6,4)))\n",
    "print(t.reshape((3,1,2,4)))"
   ]
  },
  {
   "cell_type": "markdown",
   "metadata": {},
   "source": [
    "## Transpose of Tensor"
   ]
  },
  {
   "cell_type": "code",
   "execution_count": 147,
   "metadata": {},
   "outputs": [],
   "source": [
    "t = torch.tensor([[ [1,2,3,4], [5,6,7,8], [9, 10, 11,12] ], [ [-1,-2,-3,-4], [-5,-6,-7,-8], [-9, -10, -11,-12] ]])"
   ]
  },
  {
   "cell_type": "code",
   "execution_count": 148,
   "metadata": {},
   "outputs": [
    {
     "name": "stdout",
     "output_type": "stream",
     "text": [
      "torch.Size([2, 3, 4])\n"
     ]
    }
   ],
   "source": [
    "print(t.shape)"
   ]
  },
  {
   "cell_type": "code",
   "execution_count": 149,
   "metadata": {},
   "outputs": [
    {
     "data": {
      "text/plain": [
       "tensor([[[  1,   2,   3,   4],\n",
       "         [ -1,  -2,  -3,  -4]],\n",
       "\n",
       "        [[  5,   6,   7,   8],\n",
       "         [ -5,  -6,  -7,  -8]],\n",
       "\n",
       "        [[  9,  10,  11,  12],\n",
       "         [ -9, -10, -11, -12]]])"
      ]
     },
     "execution_count": 149,
     "metadata": {},
     "output_type": "execute_result"
    }
   ],
   "source": [
    "t.transpose(0,1)"
   ]
  },
  {
   "cell_type": "code",
   "execution_count": 150,
   "metadata": {},
   "outputs": [
    {
     "data": {
      "text/plain": [
       "torch.Size([2, 3, 4])"
      ]
     },
     "execution_count": 150,
     "metadata": {},
     "output_type": "execute_result"
    }
   ],
   "source": [
    "t.shape"
   ]
  },
  {
   "cell_type": "markdown",
   "metadata": {},
   "source": [
    "## Permute Tensor"
   ]
  },
  {
   "cell_type": "code",
   "execution_count": 151,
   "metadata": {},
   "outputs": [
    {
     "data": {
      "text/plain": [
       "tensor([[[  1,   5,   9],\n",
       "         [ -1,  -5,  -9]],\n",
       "\n",
       "        [[  2,   6,  10],\n",
       "         [ -2,  -6, -10]],\n",
       "\n",
       "        [[  3,   7,  11],\n",
       "         [ -3,  -7, -11]],\n",
       "\n",
       "        [[  4,   8,  12],\n",
       "         [ -4,  -8, -12]]])"
      ]
     },
     "execution_count": 151,
     "metadata": {},
     "output_type": "execute_result"
    }
   ],
   "source": [
    "# this operation allows user to simultaneously reorder the dimensions unlike transpose which interchanges two dimensions only..\n",
    "t.permute(2,0,1)"
   ]
  },
  {
   "cell_type": "markdown",
   "metadata": {},
   "source": [
    "## Tensor Stack and Repeat\n",
    "- Cat\n",
    "- Stack\n",
    "- Repeat\n",
    "- Repeat Interleave\n",
    "- Padding"
   ]
  },
  {
   "cell_type": "code",
   "execution_count": 152,
   "metadata": {},
   "outputs": [
    {
     "name": "stdout",
     "output_type": "stream",
     "text": [
      "tensor([[[0.6625, 0.8781, 0.0225, 0.8279],\n",
      "         [0.2605, 0.5826, 0.5192, 0.7869],\n",
      "         [0.1114, 0.1639, 0.4665, 0.7896]],\n",
      "\n",
      "        [[0.0864, 0.0539, 0.8818, 0.5420],\n",
      "         [0.1730, 0.5981, 0.6145, 0.6166],\n",
      "         [0.9026, 0.1659, 0.5595, 0.6078]]])\n",
      "tensor([[[0.6596, 0.1286, 0.2853, 0.6162],\n",
      "         [0.2764, 0.4114, 0.3086, 0.3067],\n",
      "         [0.4425, 0.0677, 0.1520, 0.3750]],\n",
      "\n",
      "        [[0.1955, 0.4960, 0.7348, 0.3624],\n",
      "         [0.7998, 0.1334, 0.3391, 0.4908],\n",
      "         [0.9624, 0.4367, 0.1231, 0.1211]]])\n",
      "tensor([[[0.2961, 0.8353, 0.4500, 0.2466],\n",
      "         [0.9152, 0.4115, 0.7656, 0.3548],\n",
      "         [0.2351, 0.7980, 0.5937, 0.1652]]])\n",
      "tensor([[[0.2594],\n",
      "         [0.6242],\n",
      "         [0.3507]],\n",
      "\n",
      "        [[0.2352],\n",
      "         [0.4772],\n",
      "         [0.4400]]])\n",
      "Concatenating Tensors --- \n",
      "\n",
      "tensor([[[0.6625, 0.8781, 0.0225, 0.8279],\n",
      "         [0.2605, 0.5826, 0.5192, 0.7869],\n",
      "         [0.1114, 0.1639, 0.4665, 0.7896],\n",
      "         [0.6596, 0.1286, 0.2853, 0.6162],\n",
      "         [0.2764, 0.4114, 0.3086, 0.3067],\n",
      "         [0.4425, 0.0677, 0.1520, 0.3750]],\n",
      "\n",
      "        [[0.0864, 0.0539, 0.8818, 0.5420],\n",
      "         [0.1730, 0.5981, 0.6145, 0.6166],\n",
      "         [0.9026, 0.1659, 0.5595, 0.6078],\n",
      "         [0.1955, 0.4960, 0.7348, 0.3624],\n",
      "         [0.7998, 0.1334, 0.3391, 0.4908],\n",
      "         [0.9624, 0.4367, 0.1231, 0.1211]]])\n",
      "torch.Size([3, 3, 4])\n",
      "tensor([[[0.6625, 0.8781, 0.0225, 0.8279, 0.6596, 0.1286, 0.2853, 0.6162,\n",
      "          0.2594],\n",
      "         [0.2605, 0.5826, 0.5192, 0.7869, 0.2764, 0.4114, 0.3086, 0.3067,\n",
      "          0.6242],\n",
      "         [0.1114, 0.1639, 0.4665, 0.7896, 0.4425, 0.0677, 0.1520, 0.3750,\n",
      "          0.3507]],\n",
      "\n",
      "        [[0.0864, 0.0539, 0.8818, 0.5420, 0.1955, 0.4960, 0.7348, 0.3624,\n",
      "          0.2352],\n",
      "         [0.1730, 0.5981, 0.6145, 0.6166, 0.7998, 0.1334, 0.3391, 0.4908,\n",
      "          0.4772],\n",
      "         [0.9026, 0.1659, 0.5595, 0.6078, 0.9624, 0.4367, 0.1231, 0.1211,\n",
      "          0.4400]]])\n"
     ]
    }
   ],
   "source": [
    "# Tensor cat\n",
    "\n",
    "t1 = torch.rand(size=(2,3,4))\n",
    "t2 = torch.rand(size=(2,3,4))\n",
    "t3 = torch.rand(size=(1,3,4))\n",
    "t4 = torch.rand(size=(2,3,1))\n",
    "\n",
    "\n",
    "print(t1)\n",
    "print(t2)\n",
    "print(t3)\n",
    "print(t4)\n",
    "\n",
    "\n",
    "\n",
    "print('Concatenating Tensors --- \\n')\n",
    "\n",
    "# the dimension where you are concatenating can have different magnitude whereas the others should be same...\n",
    "print(torch.cat([t1,t2], dim=1))\n",
    "print(torch.cat([t1,t3], dim=0).shape)\n",
    "print(torch.cat([t1,t2,t4], dim=2))"
   ]
  },
  {
   "cell_type": "code",
   "execution_count": 153,
   "metadata": {},
   "outputs": [
    {
     "name": "stdout",
     "output_type": "stream",
     "text": [
      "tensor([[0.4956, 0.0049, 0.3513, 0.7247],\n",
      "        [0.8018, 0.4550, 0.4759, 0.1726],\n",
      "        [0.5145, 0.5600, 0.0705, 0.2398]])\n",
      "tensor([[0.3805, 0.2092, 0.9336, 0.3329],\n",
      "        [0.9134, 0.6427, 0.2649, 0.1939],\n",
      "        [0.6339, 0.1430, 0.3025, 0.9258]])\n",
      "torch.Size([2, 3, 4])\n",
      "tensor([[[0.4956, 0.0049, 0.3513, 0.7247],\n",
      "         [0.8018, 0.4550, 0.4759, 0.1726],\n",
      "         [0.5145, 0.5600, 0.0705, 0.2398]],\n",
      "\n",
      "        [[0.3805, 0.2092, 0.9336, 0.3329],\n",
      "         [0.9134, 0.6427, 0.2649, 0.1939],\n",
      "         [0.6339, 0.1430, 0.3025, 0.9258]]])\n",
      "torch.Size([3, 2, 4])\n",
      "tensor([[[0.4956, 0.0049, 0.3513, 0.7247],\n",
      "         [0.3805, 0.2092, 0.9336, 0.3329]],\n",
      "\n",
      "        [[0.8018, 0.4550, 0.4759, 0.1726],\n",
      "         [0.9134, 0.6427, 0.2649, 0.1939]],\n",
      "\n",
      "        [[0.5145, 0.5600, 0.0705, 0.2398],\n",
      "         [0.6339, 0.1430, 0.3025, 0.9258]]])\n"
     ]
    }
   ],
   "source": [
    "# Tensor Stack..\n",
    "# this can be imagined as a combination of unsqueeze and cat...\n",
    "\n",
    "t1 = torch.rand(size=(3,4))\n",
    "t2 = torch.rand(size=(3,4))\n",
    "\n",
    "print(t1)\n",
    "print(t2)\n",
    "\n",
    "print(torch.stack([t1,t2], dim=0).shape)\n",
    "print(torch.stack([t1,t2], dim=0))\n",
    "\n",
    "print(torch.stack([t1,t2], dim=1).shape)\n",
    "print(torch.stack([t1,t2], dim=1))"
   ]
  },
  {
   "cell_type": "code",
   "execution_count": 154,
   "metadata": {},
   "outputs": [
    {
     "name": "stdout",
     "output_type": "stream",
     "text": [
      "tensor([0.0216, 0.8488, 0.6901])\n",
      "tensor([[0.0216, 0.8488, 0.6901, 0.0216, 0.8488, 0.6901],\n",
      "        [0.0216, 0.8488, 0.6901, 0.0216, 0.8488, 0.6901],\n",
      "        [0.0216, 0.8488, 0.6901, 0.0216, 0.8488, 0.6901],\n",
      "        [0.0216, 0.8488, 0.6901, 0.0216, 0.8488, 0.6901]])\n",
      "tensor([[[0.0216, 0.8488, 0.6901, 0.0216, 0.8488, 0.6901, 0.0216, 0.8488,\n",
      "          0.6901],\n",
      "         [0.0216, 0.8488, 0.6901, 0.0216, 0.8488, 0.6901, 0.0216, 0.8488,\n",
      "          0.6901]],\n",
      "\n",
      "        [[0.0216, 0.8488, 0.6901, 0.0216, 0.8488, 0.6901, 0.0216, 0.8488,\n",
      "          0.6901],\n",
      "         [0.0216, 0.8488, 0.6901, 0.0216, 0.8488, 0.6901, 0.0216, 0.8488,\n",
      "          0.6901]],\n",
      "\n",
      "        [[0.0216, 0.8488, 0.6901, 0.0216, 0.8488, 0.6901, 0.0216, 0.8488,\n",
      "          0.6901],\n",
      "         [0.0216, 0.8488, 0.6901, 0.0216, 0.8488, 0.6901, 0.0216, 0.8488,\n",
      "          0.6901]],\n",
      "\n",
      "        [[0.0216, 0.8488, 0.6901, 0.0216, 0.8488, 0.6901, 0.0216, 0.8488,\n",
      "          0.6901],\n",
      "         [0.0216, 0.8488, 0.6901, 0.0216, 0.8488, 0.6901, 0.0216, 0.8488,\n",
      "          0.6901]]])\n"
     ]
    }
   ],
   "source": [
    "# Tensor Repeat\n",
    "\n",
    "t = torch.rand(3)\n",
    "print(t)\n",
    "\n",
    "print(t.repeat(4,2))\n",
    "print(t.repeat(4,2,3))"
   ]
  },
  {
   "cell_type": "code",
   "execution_count": 155,
   "metadata": {},
   "outputs": [
    {
     "name": "stdout",
     "output_type": "stream",
     "text": [
      "Org t1:\n",
      "tensor([0.6060, 0.1308, 0.8215])\n",
      "Org t2:\n",
      "tensor([[0.3820, 0.8797],\n",
      "        [0.6807, 0.5212],\n",
      "        [0.6259, 0.2979]])\n",
      "tensor([0.6060, 0.6060, 0.1308, 0.1308, 0.8215, 0.8215])\n",
      "tensor([[0.3820, 0.3820, 0.3820, 0.8797, 0.8797, 0.8797],\n",
      "        [0.6807, 0.6807, 0.6807, 0.5212, 0.5212, 0.5212],\n",
      "        [0.6259, 0.6259, 0.6259, 0.2979, 0.2979, 0.2979]])\n",
      "tensor([[0.3820, 0.8797],\n",
      "        [0.3820, 0.8797],\n",
      "        [0.3820, 0.8797],\n",
      "        [0.6807, 0.5212],\n",
      "        [0.6807, 0.5212],\n",
      "        [0.6807, 0.5212],\n",
      "        [0.6259, 0.2979],\n",
      "        [0.6259, 0.2979],\n",
      "        [0.6259, 0.2979]])\n"
     ]
    }
   ],
   "source": [
    "# Tensor Repeat Interleave\n",
    "\n",
    "t1 = torch.rand(3)\n",
    "t2 = torch.rand(size = (3,2))\n",
    "\n",
    "print('Org t1:')\n",
    "print(t1)\n",
    "print('Org t2:')\n",
    "print(t2)\n",
    "\n",
    "# repeat_interleave is going to repeat each of the elements parameter number of times \n",
    "# unlike repeat which repeats the entire structure\n",
    "print(t1.repeat_interleave(2))\n",
    "\n",
    "\n",
    "print(t2.repeat_interleave(3, dim=1))\n",
    "print(t2.repeat_interleave(3, dim=0))"
   ]
  },
  {
   "cell_type": "code",
   "execution_count": 156,
   "metadata": {},
   "outputs": [
    {
     "name": "stdout",
     "output_type": "stream",
     "text": [
      "tensor([[0.1775, 0.3104, 0.8195, 0.3018],\n",
      "        [0.5736, 0.3452, 0.0617, 0.8370],\n",
      "        [0.5715, 0.5437, 0.2433, 0.7548],\n",
      "        [0.8215, 0.5852, 0.6641, 0.3414]])\n"
     ]
    }
   ],
   "source": [
    "# Tensor Padding\n",
    "from torch.nn import functional as F\n",
    "\n",
    "x = torch.rand(size=(4,4))\n",
    "print(x)"
   ]
  },
  {
   "cell_type": "code",
   "execution_count": 157,
   "metadata": {},
   "outputs": [
    {
     "name": "stdout",
     "output_type": "stream",
     "text": [
      "tensor([[0.0000, 0.0000, 0.0000, 0.0000, 0.0000, 0.0000, 0.0000],\n",
      "        [0.0000, 0.1775, 0.3104, 0.8195, 0.3018, 0.0000, 0.0000],\n",
      "        [0.0000, 0.5736, 0.3452, 0.0617, 0.8370, 0.0000, 0.0000],\n",
      "        [0.0000, 0.5715, 0.5437, 0.2433, 0.7548, 0.0000, 0.0000],\n",
      "        [0.0000, 0.8215, 0.5852, 0.6641, 0.3414, 0.0000, 0.0000],\n",
      "        [0.0000, 0.0000, 0.0000, 0.0000, 0.0000, 0.0000, 0.0000],\n",
      "        [0.0000, 0.0000, 0.0000, 0.0000, 0.0000, 0.0000, 0.0000]])\n"
     ]
    }
   ],
   "source": [
    "pl = 1\n",
    "pr = 2\n",
    "pt = 1\n",
    "pb = 2\n",
    "\n",
    "a = F.pad(x, (pl, pr, pt, pb), mode = 'constant')\n",
    "print(a)"
   ]
  },
  {
   "cell_type": "markdown",
   "metadata": {},
   "source": [
    "## Mathematical Operations\n",
    "\n",
    "- Pointwise/Elementwise operations\n",
    "- Reduction Operations\n",
    "- Comparison Operations\n",
    "- Vector/Matrix Operations"
   ]
  },
  {
   "cell_type": "code",
   "execution_count": 158,
   "metadata": {},
   "outputs": [
    {
     "name": "stdout",
     "output_type": "stream",
     "text": [
      "Og t1-  tensor([0.1773, 0.2606, 0.4819, 0.7804, 0.1873])\n",
      "Og t2-  tensor([0.0454, 0.5041, 0.2461, 0.1195, 0.0329])\n",
      "Og t3-  tensor([[0.6535, 0.8127, 0.6991, 0.0733],\n",
      "        [0.7591, 0.6668, 0.5696, 0.0840],\n",
      "        [0.4619, 0.1177, 0.0300, 0.0832]])\n",
      "Og t4-  tensor([[0.3595, 0.3636, 0.5845, 0.5477],\n",
      "        [0.3728, 0.3605, 0.9671, 0.7439],\n",
      "        [0.7362, 0.0705, 0.5959, 0.2142]])\n",
      "Og t5-  tensor([[0.0484],\n",
      "        [0.7566],\n",
      "        [0.9041]])\n",
      "t1 + 10: tensor([10.1773, 10.2606, 10.4819, 10.7804, 10.1873])\n",
      "t1 * 10: tensor([1.7734, 2.6060, 4.8186, 7.8044, 1.8730])\n",
      "t1 * 10: tensor([-1.7734, -2.6060, -4.8186, -7.8044, -1.8730])\n",
      "abs(t1 * -10): tensor([1.7734, 2.6060, 4.8186, 7.8044, 1.8730])\n",
      "t1 + t2: tensor([0.2227, 0.7647, 0.7280, 0.9000, 0.2202])\n",
      "t3 + t4: tensor([[1.0130, 1.1763, 1.2836, 0.6211],\n",
      "        [1.1319, 1.0274, 1.5367, 0.8278],\n",
      "        [1.1981, 0.1881, 0.6258, 0.2973]])\n",
      "t3+t5: tensor([[0.7019, 0.8612, 0.7476, 0.1218],\n",
      "        [1.5156, 1.4234, 1.3262, 0.8405],\n",
      "        [1.3659, 1.0217, 0.9340, 0.9872]])\n"
     ]
    }
   ],
   "source": [
    "# Pointwise/Elementwise operations\n",
    "\n",
    "t1 = torch.rand(5)\n",
    "t2 = torch.rand(5)\n",
    "t3 = torch.rand(size=(3,4))\n",
    "t4 = torch.rand(size=(3,4))\n",
    "t5 = torch.rand(size=(3,1))\n",
    "\n",
    "\n",
    "print('Og t1- ', t1)\n",
    "print('Og t2- ', t2)\n",
    "print('Og t3- ', t3)\n",
    "print('Og t4- ', t4)\n",
    "print('Og t5- ', t5)\n",
    "\n",
    "\n",
    "# Adding Scalar\n",
    "print('t1 + 10:', t1+10)\n",
    "\n",
    "# Multiply Scalar\n",
    "print('t1 * 10:', t1*10)\n",
    "print('t1 * 10:', t1*-10)\n",
    "\n",
    "# Multiply Scalar abs\n",
    "print('abs(t1 * -10):', abs(t1*-10))\n",
    "\n",
    "# Adding MultiDimensional\n",
    "print('t1 + t2:', t1+t2)\n",
    "print('t3 + t4:', t3+t4)\n",
    "\n",
    "\n",
    "#Broadcasting\n",
    "print('t3+t5:', t3+t5)"
   ]
  },
  {
   "cell_type": "markdown",
   "metadata": {},
   "source": [
    "## Reduction Operations\n",
    "- sum(), mean(), std(), max(), argmax(), prod(), unique(), etc."
   ]
  },
  {
   "cell_type": "code",
   "execution_count": 159,
   "metadata": {},
   "outputs": [],
   "source": [
    "t1 = torch.rand(3)\n",
    "t2=  torch.rand(size=(3,4))"
   ]
  },
  {
   "cell_type": "code",
   "execution_count": 160,
   "metadata": {},
   "outputs": [
    {
     "name": "stdout",
     "output_type": "stream",
     "text": [
      "tensor(2.3705)\n",
      "tensor(5.5003)\n",
      "tensor([1.8907, 0.6995, 1.3178, 1.5924])\n",
      "tensor([0.6016, 2.5863, 2.3124])\n"
     ]
    }
   ],
   "source": [
    "print(t1.sum())\n",
    "print(t2.sum())\n",
    "print(t2.sum(axis=0))\n",
    "print(t2.sum(axis=1))"
   ]
  },
  {
   "cell_type": "markdown",
   "metadata": {},
   "source": [
    "## Vector/Matrix Multiplication "
   ]
  },
  {
   "cell_type": "code",
   "execution_count": 161,
   "metadata": {},
   "outputs": [
    {
     "name": "stdout",
     "output_type": "stream",
     "text": [
      "t1:  tensor([-0.7208,  1.0367,  1.1439])\n",
      "t2:  tensor([-0.1440,  0.4236, -1.3845])\n",
      "tensor(-1.0408)\n",
      "t1:  tensor([[-0.8738, -0.4117, -0.5638, -0.8933],\n",
      "        [ 1.7017, -1.4210, -0.5414,  2.5009],\n",
      "        [ 0.1846, -0.8707,  0.7558,  0.9361]])\n",
      "t2:  tensor([-0.0126, -0.9901, -0.6250, -0.7893])\n",
      "tensor([ 1.4761, -0.2501, -0.3516])\n",
      "t1:  tensor([[[-0.0843,  0.2812, -0.9655,  2.2886],\n",
      "         [ 1.6782,  3.3757,  0.3611, -1.5963],\n",
      "         [-0.3027,  1.1092,  0.5644,  1.2007]],\n",
      "\n",
      "        [[-0.3929, -0.4397, -0.0712,  0.1361],\n",
      "         [ 1.2986, -0.8196,  0.8388, -0.2275],\n",
      "         [ 0.8579, -0.7283,  0.3293,  0.8370]],\n",
      "\n",
      "        [[ 0.5573,  1.3280, -0.0443,  0.4435],\n",
      "         [ 1.4461, -0.5020,  0.7246, -0.2111],\n",
      "         [-0.8350,  0.1041, -0.9301, -0.7072]],\n",
      "\n",
      "        [[ 2.1066, -0.8506, -1.8685,  0.1710],\n",
      "         [ 0.0779, -0.6455,  0.4126, -1.1686],\n",
      "         [ 0.5102,  1.6656,  0.7671, -0.9117]],\n",
      "\n",
      "        [[ 1.0846, -0.1212, -2.1470, -1.3972],\n",
      "         [ 0.5527, -0.3682,  0.2245, -1.7338],\n",
      "         [-0.1349,  0.2172, -0.6278, -0.8401]],\n",
      "\n",
      "        [[ 0.3322, -1.7301, -0.2249, -1.4738],\n",
      "         [ 0.2473,  0.5302,  0.8864,  0.1064],\n",
      "         [-0.1637,  1.2004,  0.0654, -2.0567]],\n",
      "\n",
      "        [[-0.6611, -1.3470, -1.2186, -1.2980],\n",
      "         [-0.0905, -1.4074, -0.0440, -1.3198],\n",
      "         [ 0.7182,  0.2846, -1.6087, -0.2206]],\n",
      "\n",
      "        [[ 0.5119, -0.8777, -0.2939, -0.7469],\n",
      "         [-1.2410,  0.8831,  0.2221,  1.3485],\n",
      "         [-0.1057, -2.5862, -0.9386, -0.7052]],\n",
      "\n",
      "        [[ 0.4497,  0.5221,  0.8293, -0.8850],\n",
      "         [ 0.3186, -0.3199, -1.2438, -0.7582],\n",
      "         [-0.1949,  1.3835, -0.5507,  0.9844]],\n",
      "\n",
      "        [[-0.0251,  1.9803, -1.0919, -0.0265],\n",
      "         [-0.3480, -0.9837,  0.9797,  0.4960],\n",
      "         [ 0.5550, -0.8523,  0.7319, -0.8372]]])\n",
      "t2:  tensor([ 0.9925,  0.6262,  1.1156, -2.0146])\n",
      "tensor([[-5.5953,  7.3980, -1.3951],\n",
      "        [-1.0187,  2.1698, -0.9233],\n",
      "        [ 0.4419,  2.3546, -0.3764],\n",
      "        [-0.8710,  2.4875,  4.2419],\n",
      "        [ 1.4200,  4.0613,  0.9941],\n",
      "        [ 1.9645,  1.3520,  4.8057],\n",
      "        [-0.2441,  1.6385, -0.4592],\n",
      "        [ 1.1353, -3.1474, -1.3508],\n",
      "        [ 3.4813,  0.2558, -1.9245],\n",
      "        [ 0.0504, -0.8677,  2.5204]])\n",
      "torch.Size([10, 3])\n",
      "t1:  tensor([[[ 1.1208e-01, -1.0409e+00,  1.9441e-01, -7.5949e-01],\n",
      "         [ 4.4304e-01, -1.1170e+00,  6.5737e-01, -4.7707e-01],\n",
      "         [-1.2189e+00,  6.8577e-02,  9.4800e-02, -9.7430e-02]],\n",
      "\n",
      "        [[-7.0475e-01,  8.1481e-01,  1.2006e+00, -2.3296e-01],\n",
      "         [-1.3032e+00,  6.9678e-01, -6.9549e-02,  3.4604e-01],\n",
      "         [ 6.9950e-02,  2.0257e+00, -1.4398e-01,  1.0221e+00]],\n",
      "\n",
      "        [[-9.1853e-01,  4.8989e-01,  2.6307e-01,  6.9590e-01],\n",
      "         [ 1.7458e+00,  1.0754e+00, -2.8519e-02,  1.0671e+00],\n",
      "         [ 1.7646e+00,  5.4726e-01,  6.8607e-01,  1.5407e+00]],\n",
      "\n",
      "        [[ 4.3109e-01,  2.4867e-01, -1.5764e+00,  1.3329e+00],\n",
      "         [ 6.5196e-01, -1.7237e+00, -1.6512e+00, -2.9635e-01],\n",
      "         [-1.3744e+00,  1.1183e-02,  1.0096e+00,  9.2777e-01]],\n",
      "\n",
      "        [[ 1.1879e-01,  1.0884e+00, -5.7487e-01, -1.6539e+00],\n",
      "         [ 1.3003e-01, -2.0539e+00, -9.4387e-04, -2.3089e-01],\n",
      "         [ 3.3354e-01,  2.1090e+00,  1.2132e+00,  3.1831e-01]]])\n",
      "t2:  tensor([[[-0.9711,  1.5322,  1.8044, -1.2904, -0.1121],\n",
      "         [-1.3622,  1.7884,  0.3142,  1.2926,  0.0825],\n",
      "         [-0.5294, -0.1791, -0.3147, -0.3627,  1.2618],\n",
      "         [ 1.0079, -1.8356,  0.4664, -0.5019,  1.6165]],\n",
      "\n",
      "        [[ 2.0570,  0.0926,  0.8927,  0.7383,  1.5572],\n",
      "         [-0.2874, -1.0144, -0.4649,  0.3926, -0.0587],\n",
      "         [-0.8504, -0.7656, -1.4149,  0.0648, -0.7559],\n",
      "         [-0.3581,  0.3988, -2.1425,  0.6984,  0.4693]],\n",
      "\n",
      "        [[ 0.6630,  0.5188, -0.6539, -0.1832,  0.1001],\n",
      "         [ 0.0796,  1.0692,  0.9851,  0.0532, -0.6430],\n",
      "         [-1.5969,  0.8458, -0.1857, -1.1374,  0.7029],\n",
      "         [-0.8208, -0.4755, -0.5764, -1.0772,  0.5996]],\n",
      "\n",
      "        [[ 0.4170,  0.1071, -0.4749, -1.1575, -0.2875],\n",
      "         [ 0.1912, -0.7665,  0.5614, -0.1587,  0.2267],\n",
      "         [ 1.1725,  0.6443,  1.1752,  0.8597,  1.2590],\n",
      "         [-0.1934,  0.2278,  0.6209, -0.4045, -0.3871]],\n",
      "\n",
      "        [[-0.5959, -1.5889, -1.6819,  0.6913,  0.3264],\n",
      "         [ 0.4020, -0.1067, -0.1703, -0.8355, -1.3334],\n",
      "         [ 1.0398, -0.4432, -2.3404, -1.0085, -0.9576],\n",
      "         [-0.7874, -0.1550,  0.4697,  1.2264,  0.8844]]])\n",
      "tensor([[[ 0.4407, -0.3306, -0.5402, -1.1795, -1.0809],\n",
      "         [ 0.2624, -0.5608,  0.0191, -2.0145, -0.0835],\n",
      "         [ 0.9419, -1.5831, -2.2531,  1.6760,  0.1045]],\n",
      "\n",
      "        [[-2.6214, -1.9038, -2.2075, -0.2853, -2.1620],\n",
      "         [-2.9458, -0.6362, -2.1303, -0.4514, -1.8552],\n",
      "         [-0.6819, -1.5305, -2.8655,  1.5515,  0.5785]],\n",
      "\n",
      "        [[-1.5613, -0.0612,  0.6332, -0.8545,  0.1953],\n",
      "         [ 0.4127,  1.5240, -0.6920, -1.3797,  0.1031],\n",
      "         [-1.1467,  1.3483, -1.6302, -2.7342,  1.2309]],\n",
      "\n",
      "        [[-1.8789, -0.8565, -1.0901, -2.4328, -2.5684],\n",
      "         [-1.9363,  0.2596, -3.4017, -1.7807, -2.5423],\n",
      "         [ 0.4333,  0.7061,  2.4214,  2.0817,  1.3096]],\n",
      "\n",
      "        [[ 1.0712,  0.2062,  0.1835, -2.2757, -2.3247],\n",
      "         [-0.7224,  0.0489,  0.0248,  1.5238,  2.5779],\n",
      "         [ 1.6601, -1.3421, -3.6099, -2.3647, -3.5835]]])\n",
      "torch.Size([5, 3, 5])\n",
      "t1:  tensor([[[ 0.1494,  0.9762, -0.0460,  0.0614],\n",
      "         [-1.7739,  0.0453, -0.8977, -0.5876],\n",
      "         [ 0.5142,  0.1061, -0.1706,  0.8406]],\n",
      "\n",
      "        [[ 1.2496,  0.4039, -0.5634, -0.4860],\n",
      "         [-1.1109, -1.2232,  0.0436,  0.3627],\n",
      "         [ 0.7793, -0.1422, -1.4575, -0.3797]],\n",
      "\n",
      "        [[ 1.0116,  0.3972,  0.6400,  0.5869],\n",
      "         [ 1.0509, -1.1778,  1.1029, -1.0420],\n",
      "         [-1.2894,  0.5219, -0.6872,  2.0993]],\n",
      "\n",
      "        [[-0.9800, -0.5501, -0.5886, -2.3219],\n",
      "         [ 0.2821, -0.3615,  0.0208, -1.0479],\n",
      "         [ 1.1631,  0.8371, -0.8839,  0.8792]],\n",
      "\n",
      "        [[ 0.0110, -1.3763,  0.3381,  3.2097],\n",
      "         [ 0.0247,  0.4193,  1.9042,  1.1721],\n",
      "         [ 0.5035,  0.1350,  0.9676, -0.9128]]])\n",
      "t2:  tensor([[ 1.3528, -1.0512, -0.4147,  0.5913, -1.6905],\n",
      "        [ 0.5211,  3.0588, -0.9546,  0.5768, -1.2276],\n",
      "        [ 1.1441,  0.5170,  0.9817, -1.1604, -0.1151],\n",
      "        [ 1.5446,  0.0797, -0.7125, -0.3408, -0.1058]])\n",
      "tensor([[[ 0.7531,  2.8100, -1.0827,  0.6837, -1.4520],\n",
      "         [-4.3107,  1.4923,  0.2298,  0.2192,  3.1088],\n",
      "         [ 1.8541, -0.2371, -1.0810,  0.2767, -1.0688]],\n",
      "\n",
      "        [[ 0.5056, -0.4081, -1.1106,  1.7912, -2.4921],\n",
      "         [-1.5301, -2.5222,  1.4127, -1.5366,  3.3362],\n",
      "         [-1.2740, -2.0381, -1.3477,  2.1995, -0.9349]],\n",
      "\n",
      "        [[ 3.2143,  0.5293, -0.5886, -0.1154, -2.3336],\n",
      "         [ 0.4601, -4.2203,  2.5137, -0.9826, -0.3474],\n",
      "         [ 0.9841,  2.7640, -2.1339, -0.3795,  1.3962]],\n",
      "\n",
      "        [[-5.8720, -1.1419,  2.0081,  0.5776,  2.6452],\n",
      "         [-1.4017, -1.4752,  0.9952,  0.2913,  0.0754],\n",
      "         [ 2.3562,  0.9510, -2.7756,  1.8966, -2.9850]],\n",
      "\n",
      "        [[ 4.6422, -3.7906, -0.6459, -2.2735,  1.2924],\n",
      "         [ 4.2410,  2.3347,  0.6236, -2.3526, -0.8996],\n",
      "         [ 0.4485,  0.3110,  1.2627, -0.4361, -1.0317]]])\n",
      "torch.Size([5, 3, 5])\n"
     ]
    }
   ],
   "source": [
    "# vector vector\n",
    "t1 = torch.randn(3)\n",
    "t2 = torch.randn(3)\n",
    "\n",
    "print('t1: ', t1)\n",
    "print('t2: ', t2)\n",
    "\n",
    "print(torch.matmul(t1,t2))\n",
    "\n",
    "# matrix vector\n",
    "t1 = torch.randn(size=(3,4))\n",
    "t2 = torch.randn(4)\n",
    "\n",
    "\n",
    "# print(t1.shape)\n",
    "\n",
    "print('t1: ', t1)\n",
    "print('t2: ', t2)\n",
    "\n",
    "print(torch.matmul(t1,t2))\n",
    "\n",
    "\n",
    "# batched matrix vector product... tensor vector product\n",
    "t1 = torch.randn(size=(10,3,4))\n",
    "t2 = torch.randn(4)\n",
    "\n",
    "print('t1: ', t1)\n",
    "print('t2: ', t2)\n",
    "\n",
    "print(torch.matmul(t1,t2))\n",
    "print(torch.matmul(t1,t2).shape)\n",
    "\n",
    "\n",
    "# batched matrix x batched matrix ... tensor tensor product\n",
    "t1 = torch.randn(size=(5,3,4))\n",
    "t2 = torch.randn(size=(5,4,5))\n",
    "\n",
    "print('t1: ', t1)\n",
    "print('t2: ', t2)\n",
    "\n",
    "print(torch.matmul(t1,t2))\n",
    "print(torch.matmul(t1,t2).shape)\n",
    "\n",
    "\n",
    "\n",
    "# batched matrix x  matrix broadcast ... tensor matrix product\n",
    "t1 = torch.randn(size=(5,3,4))\n",
    "t2 = torch.randn(size=(4,5))\n",
    "\n",
    "print('t1: ', t1)\n",
    "print('t2: ', t2)\n",
    "\n",
    "print(torch.matmul(t1,t2))\n",
    "print(torch.matmul(t1,t2).shape)"
   ]
  },
  {
   "cell_type": "code",
   "execution_count": null,
   "metadata": {},
   "outputs": [],
   "source": []
  }
 ],
 "metadata": {
  "kernelspec": {
   "display_name": "Python 3",
   "language": "python",
   "name": "python3"
  },
  "language_info": {
   "codemirror_mode": {
    "name": "ipython",
    "version": 3
   },
   "file_extension": ".py",
   "mimetype": "text/x-python",
   "name": "python",
   "nbconvert_exporter": "python",
   "pygments_lexer": "ipython3",
   "version": "3.6.5"
  }
 },
 "nbformat": 4,
 "nbformat_minor": 2
}
